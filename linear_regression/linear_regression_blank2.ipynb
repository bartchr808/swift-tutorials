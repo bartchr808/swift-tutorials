{
 "cells": [
  {
   "cell_type": "markdown",
   "metadata": {},
   "source": [
    "# Initialization"
   ]
  },
  {
   "cell_type": "code",
   "execution_count": 1,
   "metadata": {},
   "outputs": [],
   "source": [
    "import TensorFlow\n",
    "import Python\n",
    "\n",
    "%include \"InitMagic.swift\""
   ]
  },
  {
   "cell_type": "markdown",
   "metadata": {},
   "source": [
    "# Define model parameters"
   ]
  },
  {
   "cell_type": "code",
   "execution_count": 2,
   "metadata": {},
   "outputs": [],
   "source": [
    "struct Linear : ParameterGroup {\n",
    "    \n",
    "}"
   ]
  },
  {
   "cell_type": "markdown",
   "metadata": {},
   "source": [
    "# Define model"
   ]
  },
  {
   "cell_type": "code",
   "execution_count": 3,
   "metadata": {},
   "outputs": [],
   "source": [
    "extension Linear {\n",
    "    func applied(to inputs: Tensor<Float>) -> Tensor<Float> {\n",
    "        \n",
    "    }\n",
    "    \n",
    "    func loss(for predictions: Tensor<Float>,\n",
    "              labels: Tensor<Float>) -> Float {\n",
    "        \n",
    "    }\n",
    "}\n",
    "\n",
    "%include \"PostModelMagic.swift\""
   ]
  },
  {
   "cell_type": "code",
   "execution_count": 4,
   "metadata": {},
   "outputs": [
    {
     "name": "stdout",
     "output_type": "stream",
     "text": [
      "Linear(w: [[-0.71061146], [-0.4260819], [0.035681844], [-0.26958132], [0.40289044], [-0.6997535], [-0.6214727], [-0.026487589], [-0.17089081], [0.64429986], [-0.29585624], [-0.58721066], [-0.66881406]], b: 0.0)\r\n"
     ]
    }
   ],
   "source": [
    "var model = Linear(w: 2 * Tensor<Float>(randomUniform: [13, 1]) - 1,\n",
    "                   b: Tensor<Float>(0))\n",
    "print(model)"
   ]
  },
  {
   "cell_type": "markdown",
   "metadata": {},
   "source": [
    "# Gradient (AutoDiff)"
   ]
  },
  {
   "cell_type": "code",
   "execution_count": 6,
   "metadata": {},
   "outputs": [
    {
     "name": "stdout",
     "output_type": "stream",
     "text": [
      "(530.4809, __lldb_expr_10.Linear(w: [[20.247026], [17.05209], [17.894762], [21.039104], [20.89296], [19.085835], [0.5100403], [19.806055], [18.58769], [-95.40789], [15.36264], [-92.41427], [17.343945]], b: -42.21007))\r\n"
     ]
    }
   ],
   "source": []
  },
  {
   "cell_type": "markdown",
   "metadata": {},
   "source": [
    "# Training Loop"
   ]
  },
  {
   "cell_type": "code",
   "execution_count": 7,
   "metadata": {},
   "outputs": [
    {
     "name": "stdout",
     "output_type": "stream",
     "text": [
      "Step 0 loss: 530.4809\r\n",
      "Step 100 loss: 88.07281\r\n",
      "Step 200 loss: 85.69998\r\n",
      "Step 300 loss: 85.683105\r\n",
      "Step 400 loss: 85.67957\r\n"
     ]
    }
   ],
   "source": [
    "var sgd = SGD(learningRate: 0.001)\n",
    "let stepCount = 500\n",
    "var losses: [Float] = []\n",
    "for step in 0..<stepCount {\n",
    "    let (loss, grads) = model.lossAndGradients(for: inputs,\n",
    "                                               labels: labels)\n",
    "    losses.append(loss)\n",
    "    if step % 100 == 0 {\n",
    "        print(\"Step \\(step) loss: \\(loss)\")\n",
    "    }\n",
    "    \n",
    "}"
   ]
  },
  {
   "cell_type": "markdown",
   "metadata": {},
   "source": [
    "# Plot loss using matplotlib"
   ]
  },
  {
   "cell_type": "code",
   "execution_count": null,
   "metadata": {},
   "outputs": [],
   "source": [
    "let plt = Python.import(\"matplotlib.pyplot\")\n"
   ]
  }
 ],
 "metadata": {
  "kernelspec": {
   "display_name": "Swift",
   "language": "swift",
   "name": "swift"
  },
  "language_info": {
   "file_extension": ".swift",
   "mimetype": "text/x-swift",
   "name": "swift",
   "version": ""
  }
 },
 "nbformat": 4,
 "nbformat_minor": 2
}
