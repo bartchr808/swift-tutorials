{
 "cells": [
  {
   "cell_type": "markdown",
   "metadata": {},
   "source": [
    "# Initialization"
   ]
  },
  {
   "cell_type": "code",
   "execution_count": null,
   "metadata": {},
   "outputs": [],
   "source": [
    "import TensorFlow\n",
    "import Python\n",
    "\n",
    "%include \"InitMagic.swift\""
   ]
  },
  {
   "cell_type": "markdown",
   "metadata": {},
   "source": [
    "# Define model parameters"
   ]
  },
  {
   "cell_type": "code",
   "execution_count": null,
   "metadata": {},
   "outputs": [],
   "source": [
    "struct Linear : ParameterGroup {\n",
    "    \n",
    "}"
   ]
  },
  {
   "cell_type": "markdown",
   "metadata": {},
   "source": [
    "# Define model"
   ]
  },
  {
   "cell_type": "code",
   "execution_count": null,
   "metadata": {},
   "outputs": [],
   "source": [
    "extension Linear {\n",
    "    func applied(to inputs: Tensor<Float>) -> Tensor<Float> {\n",
    "        \n",
    "    }\n",
    "    \n",
    "    func loss(for predictions: Tensor<Float>,\n",
    "              labels: Tensor<Float>) -> Float {\n",
    "        \n",
    "    }\n",
    "}\n",
    "\n",
    "%include \"PostModelMagic.swift\""
   ]
  },
  {
   "cell_type": "code",
   "execution_count": null,
   "metadata": {},
   "outputs": [],
   "source": [
    "var model = Linear(w: 2 * Tensor<Float>(randomUniform: [13, 1]) - 1,\n",
    "                   b: Tensor<Float>(0))\n",
    "print(model)"
   ]
  },
  {
   "cell_type": "markdown",
   "metadata": {},
   "source": [
    "# Gradient (AutoDiff)"
   ]
  },
  {
   "cell_type": "code",
   "execution_count": null,
   "metadata": {},
   "outputs": [],
   "source": []
  },
  {
   "cell_type": "markdown",
   "metadata": {},
   "source": [
    "# Training Loop"
   ]
  },
  {
   "cell_type": "code",
   "execution_count": null,
   "metadata": {},
   "outputs": [],
   "source": [
    "var sgd = SGD(learningRate: 0.001)\n",
    "let stepCount = 500\n",
    "var losses: [Float] = []\n",
    "for step in 0..<stepCount {\n",
    "    let (loss, grads) = model.lossAndGradients(for: inputs,\n",
    "                                               labels: labels)\n",
    "    losses.append(loss)\n",
    "    if step % 100 == 0 {\n",
    "        print(\"Step \\(step) loss: \\(loss)\")\n",
    "    }\n",
    "    \n",
    "}"
   ]
  },
  {
   "cell_type": "markdown",
   "metadata": {},
   "source": [
    "# Plot loss using matplotlib"
   ]
  },
  {
   "cell_type": "code",
   "execution_count": null,
   "metadata": {},
   "outputs": [],
   "source": [
    "let plt = Python.import(\"matplotlib.pyplot\")\n"
   ]
  }
 ],
 "metadata": {
  "kernelspec": {
   "display_name": "Swift",
   "language": "swift",
   "name": "swift"
  },
  "language_info": {
   "file_extension": ".swift",
   "mimetype": "text/x-swift",
   "name": "swift",
   "version": ""
  }
 },
 "nbformat": 4,
 "nbformat_minor": 2
}
