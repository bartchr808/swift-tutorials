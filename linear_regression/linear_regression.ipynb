{
 "cells": [
  {
   "cell_type": "markdown",
   "metadata": {},
   "source": [
    "# Initialization"
   ]
  },
  {
   "cell_type": "code",
   "execution_count": 1,
   "metadata": {},
   "outputs": [],
   "source": [
    "import TensorFlow\n",
    "import Python\n",
    "\n",
    "%include \"InitMagic.swift\""
   ]
  },
  {
   "cell_type": "markdown",
   "metadata": {},
   "source": [
    "# Define model parameters"
   ]
  },
  {
   "cell_type": "code",
   "execution_count": 2,
   "metadata": {},
   "outputs": [],
   "source": [
    "struct Linear : ParameterGroup {\n",
    "    var w, b: Tensor<Float>\n",
    "}"
   ]
  },
  {
   "cell_type": "markdown",
   "metadata": {},
   "source": [
    "# Define model"
   ]
  },
  {
   "cell_type": "code",
   "execution_count": 3,
   "metadata": {},
   "outputs": [],
   "source": [
    "%include \"PreModelMagic.swift\"\n",
    "\n",
    "extension Linear : Model {\n",
    "    func applied(to inputs: Tensor<Float>) -> Tensor<Float> {\n",
    "        return inputs • w + b\n",
    "    }\n",
    "    \n",
    "    func loss(for predictions: Tensor<Float>,\n",
    "              withLabels labels: Tensor<Float>) -> Float {\n",
    "        return (predictions - labels).squared().mean()\n",
    "    }\n",
    "}\n",
    "\n",
    "%include \"PostModelMagic.swift\""
   ]
  },
  {
   "cell_type": "code",
   "execution_count": 4,
   "metadata": {},
   "outputs": [
    {
     "name": "stdout",
     "output_type": "stream",
     "text": [
      "Linear(w: [[-0.5707623], [-0.7553866], [-0.8629298], [0.84251416], [0.10794926], [0.54900026], [0.85056233], [0.12461448], [-0.3595295], [0.4864558], [-0.72442555], [0.6776694], [-0.48176754]], b: 0.0)\r\n"
     ]
    }
   ],
   "source": [
    "var model = Linear(w: 2 * Tensor<Float>(randomUniform: [13, 1]) - 1,\n",
    "                   b: Tensor<Float>(0))\n",
    "print(model)"
   ]
  },
  {
   "cell_type": "markdown",
   "metadata": {},
   "source": [
    "# Gradient (AutoDiff)"
   ]
  },
  {
   "cell_type": "code",
   "execution_count": 5,
   "metadata": {},
   "outputs": [
    {
     "name": "stdout",
     "output_type": "stream",
     "text": [
      "(452.65823, __lldb_expr_10.Linear(w: [[18.305069], [15.504682], [16.192005], [19.079586], [18.94672], [17.319672], [0.48463237], [17.975569], [16.78083], [-87.89311], [13.94985], [-82.35222], [15.706714]], b: -38.370808))\r\n"
     ]
    }
   ],
   "source": [
    "print(model.lossAndGradient(for: inputs, withLabels: labels))"
   ]
  },
  {
   "cell_type": "markdown",
   "metadata": {},
   "source": [
    "# Training Loop"
   ]
  },
  {
   "cell_type": "code",
   "execution_count": 6,
   "metadata": {},
   "outputs": [
    {
     "name": "stdout",
     "output_type": "stream",
     "text": [
      "Step 0 loss: 452.65823\r\n",
      "Step 100 loss: 88.49953\r\n",
      "Step 200 loss: 86.27703\r\n",
      "Step 300 loss: 86.08224\r\n",
      "Step 400 loss: 85.958015\r\n"
     ]
    }
   ],
   "source": [
    "var sgd = SGD(learningRate: 0.001)\n",
    "let stepCount = 500\n",
    "var lossValues: [Float] = []\n",
    "for step in 0..<stepCount {\n",
    "    let (loss, gradient) = model.lossAndGradient(for: inputs,\n",
    "                                                 withLabels: labels)\n",
    "    lossValues.append(loss)\n",
    "    if step % 100 == 0 {\n",
    "        print(\"Step \\(step) loss: \\(loss)\")\n",
    "    }\n",
    "    sgd.fit(&model, withGradients: gradient)\n",
    "}"
   ]
  },
  {
   "cell_type": "markdown",
   "metadata": {},
   "source": [
    "# Plot loss using matplotlib (Python interop)"
   ]
  },
  {
   "cell_type": "code",
   "execution_count": 7,
   "metadata": {},
   "outputs": [
    {
     "data": {
      "image/png": "[encoded data removed]",
      "text/plain": [
       "<matplotlib.figure.Figure at 0x115428b10>"
      ]
     },
     "metadata": {},
     "output_type": "display_data"
    },
    {
     "data": {
      "text/plain": [
       "None\n"
      ]
     },
     "execution_count": 7,
     "metadata": {},
     "output_type": "execute_result"
    }
   ],
   "source": [
    "let plt = Python.import(\"matplotlib.pyplot\")\n",
    "plt.plot(lossValues)\n",
    "plt.show()"
   ]
  },
  {
   "cell_type": "code",
   "execution_count": 8,
   "metadata": {},
   "outputs": [],
   "source": [
    "/** Comments\n",
    "\n",
    "python interoperability -> fully integrated with python\n",
    "\n",
    "why do you care? eg:\n",
    "- syntax completion\n",
    "- compiler errors (e.g. intentionally mistype)\n",
    "\n",
    "*/"
   ]
  }
 ],
 "metadata": {
  "kernelspec": {
   "display_name": "Swift",
   "language": "swift",
   "name": "swift"
  },
  "language_info": {
   "file_extension": ".swift",
   "mimetype": "text/x-swift",
   "name": "swift",
   "version": ""
  }
 },
 "nbformat": 4,
 "nbformat_minor": 2
}
