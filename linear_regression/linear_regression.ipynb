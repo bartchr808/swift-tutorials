{
 "cells": [
  {
   "cell_type": "markdown",
   "metadata": {},
   "source": [
    "# Initialization"
   ]
  },
  {
   "cell_type": "code",
   "execution_count": null,
   "metadata": {},
   "outputs": [],
   "source": [
    "import TensorFlow\n",
    "import Python\n",
    "\n",
    "%include \"InitMagic.swift\""
   ]
  },
  {
   "cell_type": "markdown",
   "metadata": {},
   "source": [
    "# Define model parameters"
   ]
  },
  {
   "cell_type": "code",
   "execution_count": null,
   "metadata": {},
   "outputs": [],
   "source": [
    "struct Linear : ParameterGroup {\n",
    "    var w, b: Tensor<Float>\n",
    "}"
   ]
  },
  {
   "cell_type": "markdown",
   "metadata": {},
   "source": [
    "# Define model"
   ]
  },
  {
   "cell_type": "code",
   "execution_count": null,
   "metadata": {},
   "outputs": [],
   "source": [
    "%include \"PreModelMagic.swift\"\n",
    "\n",
    "extension Linear : Model {\n",
    "    func applied(to inputs: Tensor<Float>) -> Tensor<Float> {\n",
    "        return input • w + b\n",
    "    }\n",
    "    \n",
    "    func loss(for predictions: Tensor<Float>,\n",
    "              withLabels labels: Tensor<Float>) -> Float {\n",
    "        return (predictions - labels).squared().mean()\n",
    "    }\n",
    "}\n",
    "\n",
    "%include \"PostModelMagic.swift\""
   ]
  },
  {
   "cell_type": "code",
   "execution_count": null,
   "metadata": {},
   "outputs": [],
   "source": [
    "var model = Linear(w: 2 * Tensor<Float>(randomUniform: [13, 1]) - 1,\n",
    "                   b: Tensor<Float>(0))\n",
    "print(model)"
   ]
  },
  {
   "cell_type": "markdown",
   "metadata": {},
   "source": [
    "# Gradient (AutoDiff)"
   ]
  },
  {
   "cell_type": "code",
   "execution_count": null,
   "metadata": {},
   "outputs": [],
   "source": [
    "print(model.lossAndGradient(for: inputs, withLabels: labels))"
   ]
  },
  {
   "cell_type": "markdown",
   "metadata": {},
   "source": [
    "# Training Loop"
   ]
  },
  {
   "cell_type": "code",
   "execution_count": null,
   "metadata": {},
   "outputs": [],
   "source": [
    "var sgd = SGD(learningRate: 0.001)\n",
    "let stepCount = 500\n",
    "var lossValues: [Float] = []\n",
    "for step in 0..<stepCount {\n",
    "    let (loss, gradient) = model.lossAndGradient(for: inputs,\n",
    "                                                 withLabels: labels)\n",
    "    lossValues.append(loss)\n",
    "    if step % 100 == 0 {\n",
    "        print(\"Step \\(step) loss: \\(loss)\")\n",
    "    }\n",
    "    sgd.fit(&model, withGradients: gradient)\n",
    "}"
   ]
  },
  {
   "cell_type": "markdown",
   "metadata": {},
   "source": [
    "# Plot loss using matplotlib (Python interop)"
   ]
  },
  {
   "cell_type": "code",
   "execution_count": null,
   "metadata": {},
   "outputs": [],
   "source": [
    "let plt = Python.import(\"matplotlib.pyplot\")\n",
    "plt.plot(lossValues)\n",
    "plt.show()"
   ]
  },
  {
   "cell_type": "code",
   "execution_count": null,
   "metadata": {},
   "outputs": [],
   "source": [
    "/** Comments\n",
    "\n",
    "python interoperability -> fully integrated with python\n",
    "\n",
    "why do you care? eg:\n",
    "- syntax completion\n",
    "- compiler errors (e.g. intentionally mistype)\n",
    "\n",
    "*/"
   ]
  }
 ],
 "metadata": {
  "kernelspec": {
   "display_name": "Swift",
   "language": "swift",
   "name": "swift"
  },
  "language_info": {
   "file_extension": ".swift",
   "mimetype": "text/x-swift",
   "name": "swift"
  }
 },
 "nbformat": 4,
 "nbformat_minor": 2
}
