{
 "cells": [
  {
   "cell_type": "markdown",
   "metadata": {},
   "source": [
    "# Initialization"
   ]
  },
  {
   "cell_type": "code",
   "execution_count": 1,
   "metadata": {},
   "outputs": [
    {
     "name": "stdout",
     "output_type": "stream",
     "text": [
      "2018-09-27 16:33:42.302089: I tensorflow/core/platform/cpu_feature_guard.cc:141] Your CPU supports instructions that this TensorFlow binary was not compiled to use: SSE4.1 SSE4.2 AVX AVX2 FMA\r\n",
      "2018-09-27 16:33:42.320776: I tensorflow/core/grappler/optimizers/meta_optimizer.cc:344] Starting optimization for grappler item: tf_graph\r\n",
      "2018-09-27 16:33:42.324690: I tensorflow/core/grappler/optimizers/meta_optimizer.cc:344] Starting optimization for grappler item: tf_graph\r\n",
      "2018-09-27 16:33:42.338557: I tensorflow/core/grappler/optimizers/meta_optimizer.cc:344] Starting optimization for grappler item: tf_graph\r\n"
     ]
    }
   ],
   "source": [
    "import TensorFlow\n",
    "\n",
    "import Python\n",
    "%include \"EnableIPythonDisplay.swift\"\n",
    "IPythonDisplay.shell.enable_matplotlib(\"inline\")\n",
    "let plt = Python.import(\"matplotlib.pyplot\")\n",
    "%include \"InitMagic.swift\""
   ]
  },
  {
   "cell_type": "markdown",
   "metadata": {},
   "source": [
    "# Define model parameters"
   ]
  },
  {
   "cell_type": "code",
   "execution_count": 2,
   "metadata": {},
   "outputs": [],
   "source": [
    "struct Linear : ParameterAggregate {\n",
    "    var w: Tensor<Float>\n",
    "    var b: Tensor<Float>\n",
    "}"
   ]
  },
  {
   "cell_type": "markdown",
   "metadata": {},
   "source": [
    "# Define model"
   ]
  },
  {
   "cell_type": "code",
   "execution_count": 3,
   "metadata": {},
   "outputs": [
    {
     "name": "stdout",
     "output_type": "stream",
     "text": [
      "2018-09-27 16:33:44.232385: I tensorflow/core/grappler/optimizers/meta_optimizer.cc:344] Starting optimization for grappler item: tf_graph\r\n",
      "Linear(w: [[-0.052231193], [-0.43136573], [0.18635464], [-0.41295302], [-0.8958752], [-0.9040582], [0.9000932], [0.5101707], [-0.75271213], [0.21233892], [-0.88461065], [0.7879131], [-0.6275556]], b: 0.0)\r\n"
     ]
    }
   ],
   "source": [
    "%include \"PreModelMagic.swift\"\n",
    "\n",
    "extension Linear : Model {\n",
    "    @inlinable @inline(__always)\n",
    "    public func applied(to inputs: Tensor<Float>) -> Tensor<Float> {\n",
    "        return inputs • w + b\n",
    "    }\n",
    "    \n",
    "    @inlinable @inline(__always)\n",
    "    public func loss(predictions: Tensor<Float>, labels: Tensor<Float>) -> Float {\n",
    "        return (predictions - labels).customSquared().customMean()\n",
    "    }\n",
    "}\n",
    "\n",
    "var model = Linear(w: 2 * Tensor<Float>(randomUniform: [13, 1]) - 1, b: Tensor<Float>(0))\n",
    "print(model)\n",
    "\n",
    "%include \"PostModelMagic.swift\""
   ]
  },
  {
   "cell_type": "markdown",
   "metadata": {},
   "source": [
    "# Gradient (AutoDiff)"
   ]
  },
  {
   "cell_type": "code",
   "execution_count": 4,
   "metadata": {},
   "outputs": [
    {
     "name": "stdout",
     "output_type": "stream",
     "text": [
      "2018-09-27 16:33:51.847244: I tensorflow/core/grappler/optimizers/meta_optimizer.cc:344] Starting optimization for grappler item: tf_graph\r\n",
      "2018-09-27 16:33:51.853579: I tensorflow/core/grappler/optimizers/meta_optimizer.cc:344] Starting optimization for grappler item: tf_graph\r\n",
      "2018-09-27 16:33:52.208384: I tensorflow/core/grappler/optimizers/meta_optimizer.cc:344] Starting optimization for grappler item: tf_graph\r\n",
      "2018-09-27 16:33:52.214729: I tensorflow/core/grappler/optimizers/meta_optimizer.cc:344] Starting optimization for grappler item: tf_graph\r\n",
      "2018-09-27 16:33:52.219170: I tensorflow/core/grappler/optimizers/meta_optimizer.cc:344] Starting optimization for grappler item: tf_graph\r\n",
      "2018-09-27 16:33:52.230183: I tensorflow/core/grappler/optimizers/meta_optimizer.cc:344] Starting optimization for grappler item: tf_graph\r\n",
      "(427.41617, __lldb_expr_10.Linear(w: [[17.630554], [14.994066], [15.597563], [18.39219], [18.26399], [16.699], [0.45257804], [17.333698], [16.153076], [-85.13845], [13.451516], [-78.96272], [15.132909]], b: -37.018536))\r\n"
     ]
    }
   ],
   "source": [
    "print(model.lossAndGradient(inputs: inputs, labels: labels))"
   ]
  },
  {
   "cell_type": "markdown",
   "metadata": {},
   "source": [
    "# Training Loop (Graph Program Extraction)"
   ]
  },
  {
   "cell_type": "code",
   "execution_count": 5,
   "metadata": {},
   "outputs": [
    {
     "name": "stdout",
     "output_type": "stream",
     "text": [
      "Step 0 loss: 427.41617\r\n",
      "2018-09-27 16:33:55.092548: I tensorflow/core/grappler/optimizers/meta_optimizer.cc:344] Starting optimization for grappler item: tf_graph\r\n",
      "Step 200 loss: 86.5165\r\n",
      "Step 400 loss: 86.04266\r\n",
      "Step 600 loss: 85.834946\r\n",
      "Step 800 loss: 85.74001\r\n",
      "Step 1000 loss: 85.69479\r\n",
      "Step 1200 loss: 85.67177\r\n",
      "Step 1400 loss: 85.659584\r\n",
      "Step 1600 loss: 85.65116\r\n",
      "Step 1800 loss: 85.64541\r\n"
     ]
    }
   ],
   "source": [
    "let learningRate: Float = 0.001\n",
    "let stepCount = 2000\n",
    "var lossValues: [Float] = []\n",
    "for step in 0..<stepCount {\n",
    "    let (loss, gradient) = model.lossAndGradient(inputs: inputs, labels: labels)\n",
    "    lossValues.append(loss)\n",
    "    if (step % 200 == 0) {\n",
    "        print(\"Step \\(step) loss: \\(loss)\")\n",
    "    }\n",
    "    model.update(withGradients: gradient) { $0 -= learningRate * $1 }\n",
    "}"
   ]
  },
  {
   "cell_type": "markdown",
   "metadata": {},
   "source": [
    "# Plot loss using matplotlib (Python interop)"
   ]
  },
  {
   "cell_type": "code",
   "execution_count": 6,
   "metadata": {},
   "outputs": [
    {
     "data": {
      "image/png": "[encoded data removed]",
      "text/plain": [
       "<Figure size 432x288 with 1 Axes>"
      ]
     },
     "metadata": {
      "needs_background": "light"
     },
     "output_type": "display_data"
    },
    {
     "data": {
      "text/plain": [
       "None\n"
      ]
     },
     "execution_count": 6,
     "metadata": {},
     "output_type": "execute_result"
    }
   ],
   "source": [
    "plt.plot(lossValues)\n",
    "plt.show()"
   ]
  },
  {
   "cell_type": "code",
   "execution_count": null,
   "metadata": {},
   "outputs": [],
   "source": []
  }
 ],
 "metadata": {
  "kernelspec": {
   "display_name": "Swift",
   "language": "swift",
   "name": "swift"
  },
  "language_info": {
   "file_extension": ".swift",
   "mimetype": "text/x-swift",
   "name": "swift",
   "version": ""
  }
 },
 "nbformat": 4,
 "nbformat_minor": 2
}
